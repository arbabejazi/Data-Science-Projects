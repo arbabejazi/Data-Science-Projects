{
 "cells": [
  {
   "cell_type": "markdown",
   "id": "69307505",
   "metadata": {},
   "source": [
    "# Aerofit Project"
   ]
  },
  {
   "cell_type": "markdown",
   "id": "caa77910",
   "metadata": {},
   "source": [
    "### About Aerofit\n",
    "\n",
    "Aerofit is a leading brand in the field of fitness equipment. Aerofit provides a product range including machines such as treadmills, exercise bikes, gym equipment, and fitness accessories to cater to the needs of all categories of people.\n",
    "\n",
    "### Business Problem\n",
    "\n",
    "The market research team at AeroFit wants to identify the characteristics of the target audience for each type of treadmill offered by the company, to provide a better recommendation of the treadmills to the new customers. The team decides to investigate whether there are differences across the product with respect to customer characteristics.\n",
    "\n",
    "- Perform descriptive analytics to create a customer profile for each AeroFit treadmill product by developing appropriate tables and charts.\n",
    "- For each AeroFit treadmill product, construct two-way contingency tables and compute all conditional and marginal probabilities along with their insights/impact on the business."
   ]
  },
  {
   "cell_type": "markdown",
   "id": "4397a055",
   "metadata": {},
   "source": [
    "### Dataset\n",
    "\n",
    "The company collected the data on individuals who purchased a treadmill from the AeroFit stores during the prior three months. The dataset has the following features:\n",
    "\n",
    "- Product Purchased:\tKP281, KP481, or KP781\n",
    "- Age:\tIn years\n",
    "- Gender:\tMale/Female\n",
    "- Education:\tIn years\n",
    "- Marital Status:\tSingle or partnered\n",
    "- Usage:\tThe average number of times the customer plans to use the treadmill each week.\n",
    "- Income:\tAnnual income (in Dollars)\n",
    "- Fitness:\tSelf-rated fitness on a 1-to-5 scale, where 1 is the poor shape and 5 is the excellent shape.\n",
    "- Miles:\tThe average number of miles the customer expects to walk/run each week\n",
    "\n",
    "### Product Portfolio:\n",
    "\n",
    "- The KP281 is an entry-level treadmill that sells for 1,500 Dollars.\n",
    "- The KP481 is for mid-level runners that sell for 1,750 Dollars.\n",
    "- The KP781 treadmill is having advanced features that sell for 2,500 Dollars."
   ]
  },
  {
   "cell_type": "markdown",
   "id": "7fc86d2a",
   "metadata": {},
   "source": [
    "### What good looks like?\n",
    "\n",
    "- Import the dataset and do usual data analysis steps like checking the structure & characteristics of the dataset\n",
    "- Detect Outliers (using boxplot, “describe” method by checking the difference between mean and median)\n",
    "- Check if features like marital status, age have any effect on the product purchased (using countplot, histplots, boxplots etc)\n",
    "- Representing the marginal probability like - what percent of customers have purchased KP281, KP481, or KP781 in a table (can use pandas.crosstab here)\n",
    "- Check correlation among different factors using heat maps or pair plots.\n",
    "- With all the above steps you can answer questions like: What is the probability of a male customer buying a KP781 treadmill?\n",
    "- Customer Profiling - Categorization of users.\n",
    "- Probability- marginal, conditional probability.\n",
    "- Some recommendations and actionable insights, based on the inferences."
   ]
  },
  {
   "cell_type": "code",
   "execution_count": 1,
   "id": "b974885f",
   "metadata": {},
   "outputs": [],
   "source": [
    "import numpy as np\n",
    "import pandas as pd\n",
    "import matplotlib.pyplot as plt\n",
    "import seaborn as sns"
   ]
  },
  {
   "cell_type": "code",
   "execution_count": 2,
   "id": "a728688c",
   "metadata": {},
   "outputs": [
    {
     "data": {
      "text/html": [
       "<div>\n",
       "<style scoped>\n",
       "    .dataframe tbody tr th:only-of-type {\n",
       "        vertical-align: middle;\n",
       "    }\n",
       "\n",
       "    .dataframe tbody tr th {\n",
       "        vertical-align: top;\n",
       "    }\n",
       "\n",
       "    .dataframe thead th {\n",
       "        text-align: right;\n",
       "    }\n",
       "</style>\n",
       "<table border=\"1\" class=\"dataframe\">\n",
       "  <thead>\n",
       "    <tr style=\"text-align: right;\">\n",
       "      <th></th>\n",
       "      <th>Product</th>\n",
       "      <th>Age</th>\n",
       "      <th>Gender</th>\n",
       "      <th>Education</th>\n",
       "      <th>MaritalStatus</th>\n",
       "      <th>Usage</th>\n",
       "      <th>Fitness</th>\n",
       "      <th>Income</th>\n",
       "      <th>Miles</th>\n",
       "    </tr>\n",
       "  </thead>\n",
       "  <tbody>\n",
       "    <tr>\n",
       "      <th>0</th>\n",
       "      <td>KP281</td>\n",
       "      <td>18</td>\n",
       "      <td>Male</td>\n",
       "      <td>14</td>\n",
       "      <td>Single</td>\n",
       "      <td>3</td>\n",
       "      <td>4</td>\n",
       "      <td>29562</td>\n",
       "      <td>112</td>\n",
       "    </tr>\n",
       "    <tr>\n",
       "      <th>1</th>\n",
       "      <td>KP281</td>\n",
       "      <td>19</td>\n",
       "      <td>Male</td>\n",
       "      <td>15</td>\n",
       "      <td>Single</td>\n",
       "      <td>2</td>\n",
       "      <td>3</td>\n",
       "      <td>31836</td>\n",
       "      <td>75</td>\n",
       "    </tr>\n",
       "    <tr>\n",
       "      <th>2</th>\n",
       "      <td>KP281</td>\n",
       "      <td>19</td>\n",
       "      <td>Female</td>\n",
       "      <td>14</td>\n",
       "      <td>Partnered</td>\n",
       "      <td>4</td>\n",
       "      <td>3</td>\n",
       "      <td>30699</td>\n",
       "      <td>66</td>\n",
       "    </tr>\n",
       "    <tr>\n",
       "      <th>3</th>\n",
       "      <td>KP281</td>\n",
       "      <td>19</td>\n",
       "      <td>Male</td>\n",
       "      <td>12</td>\n",
       "      <td>Single</td>\n",
       "      <td>3</td>\n",
       "      <td>3</td>\n",
       "      <td>32973</td>\n",
       "      <td>85</td>\n",
       "    </tr>\n",
       "    <tr>\n",
       "      <th>4</th>\n",
       "      <td>KP281</td>\n",
       "      <td>20</td>\n",
       "      <td>Male</td>\n",
       "      <td>13</td>\n",
       "      <td>Partnered</td>\n",
       "      <td>4</td>\n",
       "      <td>2</td>\n",
       "      <td>35247</td>\n",
       "      <td>47</td>\n",
       "    </tr>\n",
       "  </tbody>\n",
       "</table>\n",
       "</div>"
      ],
      "text/plain": [
       "  Product  Age  Gender  Education MaritalStatus  Usage  Fitness  Income  Miles\n",
       "0   KP281   18    Male         14        Single      3        4   29562    112\n",
       "1   KP281   19    Male         15        Single      2        3   31836     75\n",
       "2   KP281   19  Female         14     Partnered      4        3   30699     66\n",
       "3   KP281   19    Male         12        Single      3        3   32973     85\n",
       "4   KP281   20    Male         13     Partnered      4        2   35247     47"
      ]
     },
     "execution_count": 2,
     "metadata": {},
     "output_type": "execute_result"
    }
   ],
   "source": [
    "df=pd.read_csv('https://d2beiqkhq929f0.cloudfront.net/public_assets/assets/000/001/125/original/aerofit_treadmill.csv?1639992749')\n",
    "df.head()"
   ]
  },
  {
   "cell_type": "code",
   "execution_count": 3,
   "id": "f5b7af6e",
   "metadata": {},
   "outputs": [
    {
     "data": {
      "text/plain": [
       "(180, 9)"
      ]
     },
     "execution_count": 3,
     "metadata": {},
     "output_type": "execute_result"
    }
   ],
   "source": [
    "df.shape"
   ]
  },
  {
   "cell_type": "code",
   "execution_count": 4,
   "id": "088483de",
   "metadata": {},
   "outputs": [
    {
     "name": "stdout",
     "output_type": "stream",
     "text": [
      "<class 'pandas.core.frame.DataFrame'>\n",
      "RangeIndex: 180 entries, 0 to 179\n",
      "Data columns (total 9 columns):\n",
      " #   Column         Non-Null Count  Dtype \n",
      "---  ------         --------------  ----- \n",
      " 0   Product        180 non-null    object\n",
      " 1   Age            180 non-null    int64 \n",
      " 2   Gender         180 non-null    object\n",
      " 3   Education      180 non-null    int64 \n",
      " 4   MaritalStatus  180 non-null    object\n",
      " 5   Usage          180 non-null    int64 \n",
      " 6   Fitness        180 non-null    int64 \n",
      " 7   Income         180 non-null    int64 \n",
      " 8   Miles          180 non-null    int64 \n",
      "dtypes: int64(6), object(3)\n",
      "memory usage: 12.8+ KB\n"
     ]
    }
   ],
   "source": [
    "df.info()"
   ]
  },
  {
   "cell_type": "markdown",
   "id": "630147f9",
   "metadata": {},
   "source": [
    "- There are no null values in the dataset.\n",
    "- The data-types of the various columns look fine as well."
   ]
  },
  {
   "cell_type": "markdown",
   "id": "4c7f51e4",
   "metadata": {},
   "source": [
    "### Question 1 - How many treadmills of each product type were bought?"
   ]
  },
  {
   "cell_type": "code",
   "execution_count": 5,
   "id": "931e8cd8",
   "metadata": {},
   "outputs": [
    {
     "data": {
      "image/png": "[encoded data removed]",
      "text/plain": [
       "<Figure size 576x576 with 1 Axes>"
      ]
     },
     "metadata": {},
     "output_type": "display_data"
    }
   ],
   "source": [
    "plt.figure(figsize=(8,8))\n",
    "plt.pie(df['Product'].value_counts(),labels=df['Product'].value_counts().index,\n",
    "        autopct='%.0f%%',colors=sns.color_palette('Set2'),explode=[0.01,0.01,0.01])\n",
    "plt.title('How many treadmills of each product type were bought?')\n",
    "plt.savefig('1.jpg')\n",
    "plt.show()"
   ]
  },
  {
   "cell_type": "markdown",
   "id": "23379d51",
   "metadata": {},
   "source": [
    "Inference : We see that KP281 models were bought the most, followed by KP481 and lastly KP781 in the ratio 4:3:2. One reason could be that KP281 are the least expensive and KP781 are the most expensive."
   ]
  },
  {
   "cell_type": "code",
   "execution_count": null,
   "id": "682edd69",
   "metadata": {},
   "outputs": [],
   "source": []
  },
  {
   "cell_type": "markdown",
   "id": "753ffc11",
   "metadata": {},
   "source": [
    "### Question 2 - How many treadmills of each product type were bought by different genders?"
   ]
  },
  {
   "cell_type": "code",
   "execution_count": 6,
   "id": "361342b5",
   "metadata": {},
   "outputs": [
    {
     "data": {
      "image/png": "[encoded data removed]",
      "text/plain": [
       "<Figure size 432x288 with 1 Axes>"
      ]
     },
     "metadata": {
      "needs_background": "light"
     },
     "output_type": "display_data"
    }
   ],
   "source": [
    "sns.countplot(data=df,hue='Product',x='Gender')\n",
    "plt.title('Treadmills of each product type bought by different genders?')\n",
    "plt.savefig('2.jpg')"
   ]
  },
  {
   "cell_type": "code",
   "execution_count": 7,
   "id": "9d77db12",
   "metadata": {},
   "outputs": [
    {
     "data": {
      "text/html": [
       "<div>\n",
       "<style scoped>\n",
       "    .dataframe tbody tr th:only-of-type {\n",
       "        vertical-align: middle;\n",
       "    }\n",
       "\n",
       "    .dataframe tbody tr th {\n",
       "        vertical-align: top;\n",
       "    }\n",
       "\n",
       "    .dataframe thead th {\n",
       "        text-align: right;\n",
       "    }\n",
       "</style>\n",
       "<table border=\"1\" class=\"dataframe\">\n",
       "  <thead>\n",
       "    <tr style=\"text-align: right;\">\n",
       "      <th>Product</th>\n",
       "      <th>KP281</th>\n",
       "      <th>KP481</th>\n",
       "      <th>KP781</th>\n",
       "    </tr>\n",
       "    <tr>\n",
       "      <th>Gender</th>\n",
       "      <th></th>\n",
       "      <th></th>\n",
       "      <th></th>\n",
       "    </tr>\n",
       "  </thead>\n",
       "  <tbody>\n",
       "    <tr>\n",
       "      <th>Female</th>\n",
       "      <td>0.526316</td>\n",
       "      <td>0.381579</td>\n",
       "      <td>0.092105</td>\n",
       "    </tr>\n",
       "    <tr>\n",
       "      <th>Male</th>\n",
       "      <td>0.384615</td>\n",
       "      <td>0.298077</td>\n",
       "      <td>0.317308</td>\n",
       "    </tr>\n",
       "  </tbody>\n",
       "</table>\n",
       "</div>"
      ],
      "text/plain": [
       "Product     KP281     KP481     KP781\n",
       "Gender                               \n",
       "Female   0.526316  0.381579  0.092105\n",
       "Male     0.384615  0.298077  0.317308"
      ]
     },
     "execution_count": 7,
     "metadata": {},
     "output_type": "execute_result"
    }
   ],
   "source": [
    "# Probability of buying different models, based on the gender. \n",
    "# Ex. probability of buying KP281, given that the the person is a female is 0.526\n",
    "pd.crosstab(df['Gender'],df['Product'],normalize='index')"
   ]
  },
  {
   "cell_type": "markdown",
   "id": "d8f02283",
   "metadata": {},
   "source": [
    "Inference : Irrespective of the gender, we observe that the KP281 model is the favourite be it a Man or a Woman. For females specifically, the preference for the model KP781 is very less."
   ]
  },
  {
   "cell_type": "markdown",
   "id": "3a4e6936",
   "metadata": {},
   "source": [
    "### Question 3 - How many treadmills of each product type were bought by different Marital Status?"
   ]
  },
  {
   "cell_type": "code",
   "execution_count": 8,
   "id": "f11ada0f",
   "metadata": {},
   "outputs": [
    {
     "data": {
      "image/png": "[encoded data removed]",
      "text/plain": [
       "<Figure size 432x288 with 1 Axes>"
      ]
     },
     "metadata": {
      "needs_background": "light"
     },
     "output_type": "display_data"
    }
   ],
   "source": [
    "sns.countplot(data=df,hue='Product',x='MaritalStatus')\n",
    "plt.title('Treadmills of each product type bought by different Marital Status')\n",
    "plt.savefig('3.jpg')"
   ]
  },
  {
   "cell_type": "code",
   "execution_count": 9,
   "id": "34280797",
   "metadata": {},
   "outputs": [
    {
     "data": {
      "text/html": [
       "<div>\n",
       "<style scoped>\n",
       "    .dataframe tbody tr th:only-of-type {\n",
       "        vertical-align: middle;\n",
       "    }\n",
       "\n",
       "    .dataframe tbody tr th {\n",
       "        vertical-align: top;\n",
       "    }\n",
       "\n",
       "    .dataframe thead th {\n",
       "        text-align: right;\n",
       "    }\n",
       "</style>\n",
       "<table border=\"1\" class=\"dataframe\">\n",
       "  <thead>\n",
       "    <tr style=\"text-align: right;\">\n",
       "      <th>Product</th>\n",
       "      <th>KP281</th>\n",
       "      <th>KP481</th>\n",
       "      <th>KP781</th>\n",
       "    </tr>\n",
       "    <tr>\n",
       "      <th>MaritalStatus</th>\n",
       "      <th></th>\n",
       "      <th></th>\n",
       "      <th></th>\n",
       "    </tr>\n",
       "  </thead>\n",
       "  <tbody>\n",
       "    <tr>\n",
       "      <th>Partnered</th>\n",
       "      <td>0.448598</td>\n",
       "      <td>0.336449</td>\n",
       "      <td>0.214953</td>\n",
       "    </tr>\n",
       "    <tr>\n",
       "      <th>Single</th>\n",
       "      <td>0.438356</td>\n",
       "      <td>0.328767</td>\n",
       "      <td>0.232877</td>\n",
       "    </tr>\n",
       "  </tbody>\n",
       "</table>\n",
       "</div>"
      ],
      "text/plain": [
       "Product           KP281     KP481     KP781\n",
       "MaritalStatus                              \n",
       "Partnered      0.448598  0.336449  0.214953\n",
       "Single         0.438356  0.328767  0.232877"
      ]
     },
     "execution_count": 9,
     "metadata": {},
     "output_type": "execute_result"
    }
   ],
   "source": [
    "# Probability of buying different models, based on the Marital Status. \n",
    "# Ex. probability of buying KP281, given that the the person is a partenered is 0.448\n",
    "pd.crosstab(df['MaritalStatus'],df['Product'],normalize='index')"
   ]
  },
  {
   "cell_type": "markdown",
   "id": "ac533d6a",
   "metadata": {},
   "source": [
    "Inference : Irrespective of the marital status, we observe that KP281 models are the most preferred and KP781 models are the least preferred."
   ]
  },
  {
   "cell_type": "code",
   "execution_count": null,
   "id": "bb4dd1a5",
   "metadata": {},
   "outputs": [],
   "source": []
  },
  {
   "cell_type": "markdown",
   "id": "d9a626ce",
   "metadata": {},
   "source": [
    "### Question 4 - How is the income related to people buying different treadmill models?"
   ]
  },
  {
   "cell_type": "code",
   "execution_count": 10,
   "id": "eaa9641c",
   "metadata": {},
   "outputs": [
    {
     "data": {
      "image/png": "[encoded data removed]",
      "text/plain": [
       "<Figure size 576x432 with 1 Axes>"
      ]
     },
     "metadata": {
      "needs_background": "light"
     },
     "output_type": "display_data"
    }
   ],
   "source": [
    "plt.figure(figsize=(8,6))\n",
    "sns.boxplot(data=df,x='Product',y='Income')\n",
    "plt.title('How is the income related to people buying different treadmill models?')\n",
    "plt.savefig('4.jpg')"
   ]
  },
  {
   "cell_type": "code",
   "execution_count": 11,
   "id": "99fc5c04",
   "metadata": {},
   "outputs": [
    {
     "data": {
      "text/plain": [
       "<AxesSubplot:xlabel='Product', ylabel='Income'>"
      ]
     },
     "execution_count": 11,
     "metadata": {},
     "output_type": "execute_result"
    },
    {
     "data": {
      "image/png": "[encoded data removed]",
      "text/plain": [
       "<Figure size 432x288 with 1 Axes>"
      ]
     },
     "metadata": {
      "needs_background": "light"
     },
     "output_type": "display_data"
    }
   ],
   "source": [
    "sns.barplot(data=df,x='Product',y='Income')"
   ]
  },
  {
   "cell_type": "code",
   "execution_count": 12,
   "id": "06c628fe",
   "metadata": {},
   "outputs": [
    {
     "data": {
      "image/png": "[encoded data removed]",
      "text/plain": [
       "<Figure size 576x432 with 1 Axes>"
      ]
     },
     "metadata": {
      "needs_background": "light"
     },
     "output_type": "display_data"
    }
   ],
   "source": [
    "plt.figure(figsize=(8,6))\n",
    "sns.scatterplot(y=df['Income'],x=range(1,len(df)+1),hue=df['Product'])\n",
    "plt.title('How is the income related to people buying different treadmill models?')\n",
    "plt.savefig('5.jpg')\n",
    "plt.show()"
   ]
  },
  {
   "cell_type": "markdown",
   "id": "348c37b3",
   "metadata": {},
   "source": [
    "Inference : Both the mean and median income of people who bought the KP781 model is greater than those who bought KP281 and KP481, but the mean and median incomes and distribution of people who bought the KP281 model and KP481 are almost similar. Also we observe that people having income greater than 70,000 dollars bought the KP781 model, so we can infer that people having deep pockets prefer the most expensive model - KP781. "
   ]
  },
  {
   "cell_type": "markdown",
   "id": "51f160ae",
   "metadata": {},
   "source": [
    "### Question 5 - How many treadmills were bought by people belonging to different age groups?"
   ]
  },
  {
   "cell_type": "code",
   "execution_count": 13,
   "id": "376146cd",
   "metadata": {},
   "outputs": [
    {
     "data": {
      "text/plain": [
       "25    25\n",
       "23    18\n",
       "24    12\n",
       "26    12\n",
       "28     9\n",
       "35     8\n",
       "33     8\n",
       "30     7\n",
       "38     7\n",
       "21     7\n",
       "22     7\n",
       "27     7\n",
       "31     6\n",
       "34     6\n",
       "29     6\n",
       "20     5\n",
       "40     5\n",
       "32     4\n",
       "19     4\n",
       "48     2\n",
       "37     2\n",
       "45     2\n",
       "47     2\n",
       "46     1\n",
       "50     1\n",
       "18     1\n",
       "44     1\n",
       "43     1\n",
       "41     1\n",
       "39     1\n",
       "36     1\n",
       "42     1\n",
       "Name: Age, dtype: int64"
      ]
     },
     "execution_count": 13,
     "metadata": {},
     "output_type": "execute_result"
    }
   ],
   "source": [
    "df['Age'].value_counts()"
   ]
  },
  {
   "cell_type": "code",
   "execution_count": 14,
   "id": "8f890e8f",
   "metadata": {},
   "outputs": [
    {
     "name": "stdout",
     "output_type": "stream",
     "text": [
      "Minimum Age = 18 And Maximum Age = 50\n"
     ]
    }
   ],
   "source": [
    "print('Minimum Age =',min(df['Age']),'And','Maximum Age =',max(df['Age']))"
   ]
  },
  {
   "cell_type": "code",
   "execution_count": 15,
   "id": "c970040e",
   "metadata": {},
   "outputs": [],
   "source": [
    "def function(x):\n",
    "    \n",
    "    if x>=46:\n",
    "        return '46-50'\n",
    "    elif x>=41:\n",
    "        return '41-45'\n",
    "    elif x>=36:\n",
    "        return '36-40'\n",
    "    elif x>=31:\n",
    "        return '31-35'\n",
    "    elif x>=26:\n",
    "        return '26-30'\n",
    "    elif x>=21:\n",
    "        return '21-25'\n",
    "    else:\n",
    "        return '18-20'\n",
    "    "
   ]
  },
  {
   "cell_type": "code",
   "execution_count": 16,
   "id": "3333a92f",
   "metadata": {},
   "outputs": [],
   "source": [
    "#Converting Discrete Data To Categorical Data\n",
    "df['Age']=df['Age'].apply(function)"
   ]
  },
  {
   "cell_type": "code",
   "execution_count": 17,
   "id": "866f9ff6",
   "metadata": {},
   "outputs": [
    {
     "data": {
      "text/html": [
       "<div>\n",
       "<style scoped>\n",
       "    .dataframe tbody tr th:only-of-type {\n",
       "        vertical-align: middle;\n",
       "    }\n",
       "\n",
       "    .dataframe tbody tr th {\n",
       "        vertical-align: top;\n",
       "    }\n",
       "\n",
       "    .dataframe thead th {\n",
       "        text-align: right;\n",
       "    }\n",
       "</style>\n",
       "<table border=\"1\" class=\"dataframe\">\n",
       "  <thead>\n",
       "    <tr style=\"text-align: right;\">\n",
       "      <th></th>\n",
       "      <th>Product</th>\n",
       "      <th>Age</th>\n",
       "      <th>Gender</th>\n",
       "      <th>Education</th>\n",
       "      <th>MaritalStatus</th>\n",
       "      <th>Usage</th>\n",
       "      <th>Fitness</th>\n",
       "      <th>Income</th>\n",
       "      <th>Miles</th>\n",
       "    </tr>\n",
       "  </thead>\n",
       "  <tbody>\n",
       "    <tr>\n",
       "      <th>0</th>\n",
       "      <td>KP281</td>\n",
       "      <td>18-20</td>\n",
       "      <td>Male</td>\n",
       "      <td>14</td>\n",
       "      <td>Single</td>\n",
       "      <td>3</td>\n",
       "      <td>4</td>\n",
       "      <td>29562</td>\n",
       "      <td>112</td>\n",
       "    </tr>\n",
       "    <tr>\n",
       "      <th>1</th>\n",
       "      <td>KP281</td>\n",
       "      <td>18-20</td>\n",
       "      <td>Male</td>\n",
       "      <td>15</td>\n",
       "      <td>Single</td>\n",
       "      <td>2</td>\n",
       "      <td>3</td>\n",
       "      <td>31836</td>\n",
       "      <td>75</td>\n",
       "    </tr>\n",
       "    <tr>\n",
       "      <th>2</th>\n",
       "      <td>KP281</td>\n",
       "      <td>18-20</td>\n",
       "      <td>Female</td>\n",
       "      <td>14</td>\n",
       "      <td>Partnered</td>\n",
       "      <td>4</td>\n",
       "      <td>3</td>\n",
       "      <td>30699</td>\n",
       "      <td>66</td>\n",
       "    </tr>\n",
       "    <tr>\n",
       "      <th>3</th>\n",
       "      <td>KP281</td>\n",
       "      <td>18-20</td>\n",
       "      <td>Male</td>\n",
       "      <td>12</td>\n",
       "      <td>Single</td>\n",
       "      <td>3</td>\n",
       "      <td>3</td>\n",
       "      <td>32973</td>\n",
       "      <td>85</td>\n",
       "    </tr>\n",
       "    <tr>\n",
       "      <th>4</th>\n",
       "      <td>KP281</td>\n",
       "      <td>18-20</td>\n",
       "      <td>Male</td>\n",
       "      <td>13</td>\n",
       "      <td>Partnered</td>\n",
       "      <td>4</td>\n",
       "      <td>2</td>\n",
       "      <td>35247</td>\n",
       "      <td>47</td>\n",
       "    </tr>\n",
       "  </tbody>\n",
       "</table>\n",
       "</div>"
      ],
      "text/plain": [
       "  Product    Age  Gender  Education MaritalStatus  Usage  Fitness  Income  \\\n",
       "0   KP281  18-20    Male         14        Single      3        4   29562   \n",
       "1   KP281  18-20    Male         15        Single      2        3   31836   \n",
       "2   KP281  18-20  Female         14     Partnered      4        3   30699   \n",
       "3   KP281  18-20    Male         12        Single      3        3   32973   \n",
       "4   KP281  18-20    Male         13     Partnered      4        2   35247   \n",
       "\n",
       "   Miles  \n",
       "0    112  \n",
       "1     75  \n",
       "2     66  \n",
       "3     85  \n",
       "4     47  "
      ]
     },
     "execution_count": 17,
     "metadata": {},
     "output_type": "execute_result"
    }
   ],
   "source": [
    "df.head()"
   ]
  },
  {
   "cell_type": "code",
   "execution_count": null,
   "id": "8a9606b2",
   "metadata": {},
   "outputs": [],
   "source": []
  },
  {
   "cell_type": "code",
   "execution_count": 18,
   "id": "b2c88bef",
   "metadata": {},
   "outputs": [
    {
     "data": {
      "image/png": "[encoded data removed]",
      "text/plain": [
       "<Figure size 576x432 with 1 Axes>"
      ]
     },
     "metadata": {
      "needs_background": "light"
     },
     "output_type": "display_data"
    }
   ],
   "source": [
    "plt.figure(figsize=(8,6))\n",
    "sns.countplot(data=df,x='Age')\n",
    "plt.title('Treadmills bought by people belonging to different age groups?')\n",
    "plt.savefig('6.jpg')"
   ]
  },
  {
   "cell_type": "markdown",
   "id": "04fe6f8a",
   "metadata": {},
   "source": [
    "Inference : Most customers were in the age group of 21-25 followed by 26-30 and 31-35. So mostly young people bought treadmills."
   ]
  },
  {
   "cell_type": "markdown",
   "id": "2671dc3c",
   "metadata": {},
   "source": [
    "### Question 6 - How many treadmills of each product type were bought by people belonging to different age groups?"
   ]
  },
  {
   "cell_type": "code",
   "execution_count": 19,
   "id": "ecbc59c9",
   "metadata": {},
   "outputs": [
    {
     "data": {
      "image/png": "[encoded data removed]",
      "text/plain": [
       "<Figure size 720x576 with 1 Axes>"
      ]
     },
     "metadata": {
      "needs_background": "light"
     },
     "output_type": "display_data"
    }
   ],
   "source": [
    "plt.figure(figsize=(10,8))\n",
    "sns.countplot(data=df,x='Age',hue='Product')\n",
    "plt.title('Treadmills of each product type bought by people of different age groups?')\n",
    "plt.savefig('7.jpg')"
   ]
  },
  {
   "cell_type": "code",
   "execution_count": 20,
   "id": "acfd3266",
   "metadata": {},
   "outputs": [
    {
     "data": {
      "text/html": [
       "<div>\n",
       "<style scoped>\n",
       "    .dataframe tbody tr th:only-of-type {\n",
       "        vertical-align: middle;\n",
       "    }\n",
       "\n",
       "    .dataframe tbody tr th {\n",
       "        vertical-align: top;\n",
       "    }\n",
       "\n",
       "    .dataframe thead th {\n",
       "        text-align: right;\n",
       "    }\n",
       "</style>\n",
       "<table border=\"1\" class=\"dataframe\">\n",
       "  <thead>\n",
       "    <tr style=\"text-align: right;\">\n",
       "      <th>Product</th>\n",
       "      <th>KP281</th>\n",
       "      <th>KP481</th>\n",
       "      <th>KP781</th>\n",
       "    </tr>\n",
       "    <tr>\n",
       "      <th>Age</th>\n",
       "      <th></th>\n",
       "      <th></th>\n",
       "      <th></th>\n",
       "    </tr>\n",
       "  </thead>\n",
       "  <tbody>\n",
       "    <tr>\n",
       "      <th>18-20</th>\n",
       "      <td>0.600000</td>\n",
       "      <td>0.400000</td>\n",
       "      <td>0.000000</td>\n",
       "    </tr>\n",
       "    <tr>\n",
       "      <th>21-25</th>\n",
       "      <td>0.405797</td>\n",
       "      <td>0.347826</td>\n",
       "      <td>0.246377</td>\n",
       "    </tr>\n",
       "    <tr>\n",
       "      <th>26-30</th>\n",
       "      <td>0.512195</td>\n",
       "      <td>0.170732</td>\n",
       "      <td>0.317073</td>\n",
       "    </tr>\n",
       "    <tr>\n",
       "      <th>31-35</th>\n",
       "      <td>0.343750</td>\n",
       "      <td>0.531250</td>\n",
       "      <td>0.125000</td>\n",
       "    </tr>\n",
       "    <tr>\n",
       "      <th>36-40</th>\n",
       "      <td>0.500000</td>\n",
       "      <td>0.375000</td>\n",
       "      <td>0.125000</td>\n",
       "    </tr>\n",
       "    <tr>\n",
       "      <th>41-45</th>\n",
       "      <td>0.500000</td>\n",
       "      <td>0.166667</td>\n",
       "      <td>0.333333</td>\n",
       "    </tr>\n",
       "    <tr>\n",
       "      <th>46-50</th>\n",
       "      <td>0.500000</td>\n",
       "      <td>0.166667</td>\n",
       "      <td>0.333333</td>\n",
       "    </tr>\n",
       "  </tbody>\n",
       "</table>\n",
       "</div>"
      ],
      "text/plain": [
       "Product     KP281     KP481     KP781\n",
       "Age                                  \n",
       "18-20    0.600000  0.400000  0.000000\n",
       "21-25    0.405797  0.347826  0.246377\n",
       "26-30    0.512195  0.170732  0.317073\n",
       "31-35    0.343750  0.531250  0.125000\n",
       "36-40    0.500000  0.375000  0.125000\n",
       "41-45    0.500000  0.166667  0.333333\n",
       "46-50    0.500000  0.166667  0.333333"
      ]
     },
     "execution_count": 20,
     "metadata": {},
     "output_type": "execute_result"
    }
   ],
   "source": [
    "# Probability of buying different models, based on the age group. \n",
    "# Ex. probability of buying KP281, given that the the person has an age between 18-20 is 0.6\n",
    "pd.crosstab(df['Age'],df['Product'],normalize='index')"
   ]
  },
  {
   "cell_type": "markdown",
   "id": "a3e65dd9",
   "metadata": {},
   "source": [
    "Inference - From the plot and crosstab, we observe the following :\n",
    "\n",
    "- For age group 18-20, there was no customer who bought the most expensive model KP781. One reason could be that students cannot afford such expensive models.\n",
    "- For age groups 26-30, 41-45 and 46-50, we observe that the most preferred model is KP281. However one important observation was that people prefer KP781 over KP481, inspite of it being the most expensive. Maybe there are few people in these age groups who are very concerned about their fitness and prefer using the best model having advanced features.\n",
    "- For age group 31-35, we observe that people prefer the mid-range model KP481 over the other 2 models. On reason could be that people would not like to go either for the most expensive or the cheapest product. Maybe the midrange model is a balance of both price and features.\n",
    "- For age group 21-25, we see that the most bought model is KP281 followed by KP481 and KP781. The least expensive model is most preferred by people belonging to this age group. One reason could be that they would still be studying or would have just started with their jobs and therefore do not want to spend much.\n",
    "- For age group 36-40 also, we see that the most bought model is KP281 followed by KP481 and KP781. One reason that the model KP281 is most preferred could be that people belonging to this group would be burdened with various EMIs and therefore would want to cut down on the expenses."
   ]
  },
  {
   "cell_type": "code",
   "execution_count": null,
   "id": "f7889f13",
   "metadata": {},
   "outputs": [],
   "source": []
  },
  {
   "cell_type": "markdown",
   "id": "8efbea67",
   "metadata": {},
   "source": [
    "### Question 7 - How the various treadmill models bought are related to the usage?\n",
    "Usage : The average number of times the customer plans to use the treadmill each week. "
   ]
  },
  {
   "cell_type": "code",
   "execution_count": 21,
   "id": "d729f5dd",
   "metadata": {},
   "outputs": [
    {
     "data": {
      "image/png": "[encoded data removed]",
      "text/plain": [
       "<Figure size 720x576 with 1 Axes>"
      ]
     },
     "metadata": {
      "needs_background": "light"
     },
     "output_type": "display_data"
    }
   ],
   "source": [
    "plt.figure(figsize=(10,8))\n",
    "sns.countplot(data=df,x='Usage',hue='Product')\n",
    "plt.title('How the various treadmill models bought are related to the usage?')\n",
    "plt.savefig('8.jpg')"
   ]
  },
  {
   "cell_type": "code",
   "execution_count": 22,
   "id": "c85c14b5",
   "metadata": {},
   "outputs": [
    {
     "data": {
      "text/html": [
       "<div>\n",
       "<style scoped>\n",
       "    .dataframe tbody tr th:only-of-type {\n",
       "        vertical-align: middle;\n",
       "    }\n",
       "\n",
       "    .dataframe tbody tr th {\n",
       "        vertical-align: top;\n",
       "    }\n",
       "\n",
       "    .dataframe thead th {\n",
       "        text-align: right;\n",
       "    }\n",
       "</style>\n",
       "<table border=\"1\" class=\"dataframe\">\n",
       "  <thead>\n",
       "    <tr style=\"text-align: right;\">\n",
       "      <th>Product</th>\n",
       "      <th>KP281</th>\n",
       "      <th>KP481</th>\n",
       "      <th>KP781</th>\n",
       "    </tr>\n",
       "    <tr>\n",
       "      <th>Usage</th>\n",
       "      <th></th>\n",
       "      <th></th>\n",
       "      <th></th>\n",
       "    </tr>\n",
       "  </thead>\n",
       "  <tbody>\n",
       "    <tr>\n",
       "      <th>2</th>\n",
       "      <td>0.575758</td>\n",
       "      <td>0.424242</td>\n",
       "      <td>0.000000</td>\n",
       "    </tr>\n",
       "    <tr>\n",
       "      <th>3</th>\n",
       "      <td>0.536232</td>\n",
       "      <td>0.449275</td>\n",
       "      <td>0.014493</td>\n",
       "    </tr>\n",
       "    <tr>\n",
       "      <th>4</th>\n",
       "      <td>0.423077</td>\n",
       "      <td>0.230769</td>\n",
       "      <td>0.346154</td>\n",
       "    </tr>\n",
       "    <tr>\n",
       "      <th>5</th>\n",
       "      <td>0.117647</td>\n",
       "      <td>0.176471</td>\n",
       "      <td>0.705882</td>\n",
       "    </tr>\n",
       "    <tr>\n",
       "      <th>6</th>\n",
       "      <td>0.000000</td>\n",
       "      <td>0.000000</td>\n",
       "      <td>1.000000</td>\n",
       "    </tr>\n",
       "    <tr>\n",
       "      <th>7</th>\n",
       "      <td>0.000000</td>\n",
       "      <td>0.000000</td>\n",
       "      <td>1.000000</td>\n",
       "    </tr>\n",
       "  </tbody>\n",
       "</table>\n",
       "</div>"
      ],
      "text/plain": [
       "Product     KP281     KP481     KP781\n",
       "Usage                                \n",
       "2        0.575758  0.424242  0.000000\n",
       "3        0.536232  0.449275  0.014493\n",
       "4        0.423077  0.230769  0.346154\n",
       "5        0.117647  0.176471  0.705882\n",
       "6        0.000000  0.000000  1.000000\n",
       "7        0.000000  0.000000  1.000000"
      ]
     },
     "execution_count": 22,
     "metadata": {},
     "output_type": "execute_result"
    }
   ],
   "source": [
    "# Probability of buying different models, based on the usage. \n",
    "# Ex. probability of buying KP281, given that the the person has a usage of 2 is 0.575\n",
    "pd.crosstab(df['Usage'],df['Product'],normalize='index')"
   ]
  },
  {
   "cell_type": "markdown",
   "id": "3cc1b889",
   "metadata": {},
   "source": [
    "Inference - From this plot and crosstab, we observe the following :\n",
    "- For people who on average expect to use the treadmill 5-7 times each week, they prefer the best model KP781. One reason could be that these people want the most advanced features since they would be using the treadmill almost daily.\n",
    "- For people who on average expect to use the treadmill 2-4 times each week, they prefer the least expensive model KP281. One reason could be that these people would not be using the treadmill daily, and therefore do not want to invest a lot.\n",
    "- The no of people who want to buy the most expensive model KP781 is - 0 for people who wish to use the treadmill 2 times a week and negligible for people who wish to use the treadmill 3 times a week."
   ]
  },
  {
   "cell_type": "markdown",
   "id": "c6f5c567",
   "metadata": {},
   "source": [
    "### Question 8 - How the various treadmill models bought are related to the Fitness?\n",
    "Fitness : Self-rated fitness on a 1-to-5 scale, where 1 is the poor shape and 5 is the excellent shape."
   ]
  },
  {
   "cell_type": "code",
   "execution_count": 23,
   "id": "063a6532",
   "metadata": {},
   "outputs": [
    {
     "data": {
      "image/png": "[encoded data removed]",
      "text/plain": [
       "<Figure size 720x576 with 1 Axes>"
      ]
     },
     "metadata": {
      "needs_background": "light"
     },
     "output_type": "display_data"
    }
   ],
   "source": [
    "plt.figure(figsize=(10,8))\n",
    "sns.countplot(data=df,x='Fitness',hue='Product')\n",
    "plt.title('How varrious treadmill models bought are related to Fitness?')\n",
    "plt.savefig('9.jpg')"
   ]
  },
  {
   "cell_type": "code",
   "execution_count": 24,
   "id": "7c541058",
   "metadata": {},
   "outputs": [
    {
     "data": {
      "text/html": [
       "<div>\n",
       "<style scoped>\n",
       "    .dataframe tbody tr th:only-of-type {\n",
       "        vertical-align: middle;\n",
       "    }\n",
       "\n",
       "    .dataframe tbody tr th {\n",
       "        vertical-align: top;\n",
       "    }\n",
       "\n",
       "    .dataframe thead th {\n",
       "        text-align: right;\n",
       "    }\n",
       "</style>\n",
       "<table border=\"1\" class=\"dataframe\">\n",
       "  <thead>\n",
       "    <tr style=\"text-align: right;\">\n",
       "      <th>Product</th>\n",
       "      <th>KP281</th>\n",
       "      <th>KP481</th>\n",
       "      <th>KP781</th>\n",
       "    </tr>\n",
       "    <tr>\n",
       "      <th>Fitness</th>\n",
       "      <th></th>\n",
       "      <th></th>\n",
       "      <th></th>\n",
       "    </tr>\n",
       "  </thead>\n",
       "  <tbody>\n",
       "    <tr>\n",
       "      <th>1</th>\n",
       "      <td>0.500000</td>\n",
       "      <td>0.500000</td>\n",
       "      <td>0.000000</td>\n",
       "    </tr>\n",
       "    <tr>\n",
       "      <th>2</th>\n",
       "      <td>0.538462</td>\n",
       "      <td>0.461538</td>\n",
       "      <td>0.000000</td>\n",
       "    </tr>\n",
       "    <tr>\n",
       "      <th>3</th>\n",
       "      <td>0.556701</td>\n",
       "      <td>0.402062</td>\n",
       "      <td>0.041237</td>\n",
       "    </tr>\n",
       "    <tr>\n",
       "      <th>4</th>\n",
       "      <td>0.375000</td>\n",
       "      <td>0.333333</td>\n",
       "      <td>0.291667</td>\n",
       "    </tr>\n",
       "    <tr>\n",
       "      <th>5</th>\n",
       "      <td>0.064516</td>\n",
       "      <td>0.000000</td>\n",
       "      <td>0.935484</td>\n",
       "    </tr>\n",
       "  </tbody>\n",
       "</table>\n",
       "</div>"
      ],
      "text/plain": [
       "Product     KP281     KP481     KP781\n",
       "Fitness                              \n",
       "1        0.500000  0.500000  0.000000\n",
       "2        0.538462  0.461538  0.000000\n",
       "3        0.556701  0.402062  0.041237\n",
       "4        0.375000  0.333333  0.291667\n",
       "5        0.064516  0.000000  0.935484"
      ]
     },
     "execution_count": 24,
     "metadata": {},
     "output_type": "execute_result"
    }
   ],
   "source": [
    "# Probability of buying different models, based on the fitness. \n",
    "# Ex. probability of buying KP281, given that the the person has a fitness of 1 is 0.5\n",
    "pd.crosstab(df['Fitness'],df['Product'],normalize='index')"
   ]
  },
  {
   "cell_type": "markdown",
   "id": "5f91e5ad",
   "metadata": {},
   "source": [
    "Inference : From this plot, we observe the following :\n",
    "    \n",
    "- For people who consider themselves in excellent shape(5), they prefer the most expensive model. Maybe these people are fitness enthusiasts and thus want to maintain and further improve their fitness.\n",
    "- For people who have rated themselves 4 in fitness, we see a mix of opinions. There is almost an equal preference for each of the 3 models.\n",
    "- For people who consider themselves in not so excellent shape(1 - 3), they prefer the least expensive model. Maybe these people are just about to start their fitness journey or maybe they believe that an ordinary machine with not so advanced features is sufficient to mantain their fitness."
   ]
  },
  {
   "cell_type": "markdown",
   "id": "d76fbce1",
   "metadata": {},
   "source": [
    "### Question 9 - How the various treadmill models bought are related to the Miles they expect to run each week?"
   ]
  },
  {
   "cell_type": "code",
   "execution_count": null,
   "id": "69c4dd5a",
   "metadata": {},
   "outputs": [],
   "source": []
  },
  {
   "cell_type": "code",
   "execution_count": 25,
   "id": "f97a1a6b",
   "metadata": {},
   "outputs": [
    {
     "data": {
      "image/png": "[encoded data removed]",
      "text/plain": [
       "<Figure size 720x576 with 1 Axes>"
      ]
     },
     "metadata": {
      "needs_background": "light"
     },
     "output_type": "display_data"
    }
   ],
   "source": [
    "plt.figure(figsize=(10,8))\n",
    "sns.boxplot(data=df,x='Product',y='Miles')\n",
    "plt.title('How various treadmill models bought are related to the Miles?')\n",
    "plt.savefig('10.jpg')"
   ]
  },
  {
   "cell_type": "code",
   "execution_count": 26,
   "id": "66e33c83",
   "metadata": {},
   "outputs": [
    {
     "data": {
      "image/png": "[encoded data removed]",
      "text/plain": [
       "<Figure size 504x504 with 1 Axes>"
      ]
     },
     "metadata": {
      "needs_background": "light"
     },
     "output_type": "display_data"
    }
   ],
   "source": [
    "plt.figure(figsize=(7,7))\n",
    "sns.barplot(data=df,x='Product',y='Miles')\n",
    "plt.show()"
   ]
  },
  {
   "cell_type": "code",
   "execution_count": 27,
   "id": "ef18174a",
   "metadata": {},
   "outputs": [
    {
     "data": {
      "image/png": "[encoded data removed]",
      "text/plain": [
       "<Figure size 576x432 with 1 Axes>"
      ]
     },
     "metadata": {
      "needs_background": "light"
     },
     "output_type": "display_data"
    }
   ],
   "source": [
    "plt.figure(figsize=(8,6))\n",
    "sns.scatterplot(y=df['Miles'],x=range(1,len(df)+1),hue=df['Product'])\n",
    "plt.title('How various treadmill models bought are related to the Miles?')\n",
    "plt.savefig('11.jpg')\n",
    "plt.show()"
   ]
  },
  {
   "cell_type": "markdown",
   "id": "e0b4a948",
   "metadata": {},
   "source": [
    "Inference - From the 2 plots, we observe the following :\n",
    "- For people who expect to run more miles, they usually buy the most expensive model KP781. One reason could be that the KP781 model provides the most advanced features. \n",
    "- For people who buy the KP281 and KP 481 model, the mean and median expected no of miles that the people will run is almost the same.\n",
    "- Also we observe that people expecting to run more than 150 miles mostly always bought the KP781 model."
   ]
  },
  {
   "cell_type": "markdown",
   "id": "4c2a467b",
   "metadata": {},
   "source": [
    "### Question 10 - How the various treadmill models bought are related to the Education that people have?"
   ]
  },
  {
   "cell_type": "code",
   "execution_count": null,
   "id": "90d5ac7d",
   "metadata": {},
   "outputs": [],
   "source": []
  },
  {
   "cell_type": "code",
   "execution_count": 28,
   "id": "99a67303",
   "metadata": {},
   "outputs": [
    {
     "data": {
      "image/png": "[encoded data removed]",
      "text/plain": [
       "<Figure size 864x576 with 1 Axes>"
      ]
     },
     "metadata": {
      "needs_background": "light"
     },
     "output_type": "display_data"
    }
   ],
   "source": [
    "plt.figure(figsize=(12,8))\n",
    "sns.countplot(data=df,hue='Product',x='Education')\n",
    "plt.title('How various treadmill models bought are related to the Education?')\n",
    "plt.savefig('12.jpg')"
   ]
  },
  {
   "cell_type": "code",
   "execution_count": 29,
   "id": "a5aed072",
   "metadata": {},
   "outputs": [
    {
     "data": {
      "text/html": [
       "<div>\n",
       "<style scoped>\n",
       "    .dataframe tbody tr th:only-of-type {\n",
       "        vertical-align: middle;\n",
       "    }\n",
       "\n",
       "    .dataframe tbody tr th {\n",
       "        vertical-align: top;\n",
       "    }\n",
       "\n",
       "    .dataframe thead th {\n",
       "        text-align: right;\n",
       "    }\n",
       "</style>\n",
       "<table border=\"1\" class=\"dataframe\">\n",
       "  <thead>\n",
       "    <tr style=\"text-align: right;\">\n",
       "      <th>Product</th>\n",
       "      <th>KP281</th>\n",
       "      <th>KP481</th>\n",
       "      <th>KP781</th>\n",
       "    </tr>\n",
       "    <tr>\n",
       "      <th>Education</th>\n",
       "      <th></th>\n",
       "      <th></th>\n",
       "      <th></th>\n",
       "    </tr>\n",
       "  </thead>\n",
       "  <tbody>\n",
       "    <tr>\n",
       "      <th>12</th>\n",
       "      <td>0.666667</td>\n",
       "      <td>0.333333</td>\n",
       "      <td>0.000000</td>\n",
       "    </tr>\n",
       "    <tr>\n",
       "      <th>13</th>\n",
       "      <td>0.600000</td>\n",
       "      <td>0.400000</td>\n",
       "      <td>0.000000</td>\n",
       "    </tr>\n",
       "    <tr>\n",
       "      <th>14</th>\n",
       "      <td>0.545455</td>\n",
       "      <td>0.418182</td>\n",
       "      <td>0.036364</td>\n",
       "    </tr>\n",
       "    <tr>\n",
       "      <th>15</th>\n",
       "      <td>0.800000</td>\n",
       "      <td>0.200000</td>\n",
       "      <td>0.000000</td>\n",
       "    </tr>\n",
       "    <tr>\n",
       "      <th>16</th>\n",
       "      <td>0.458824</td>\n",
       "      <td>0.364706</td>\n",
       "      <td>0.176471</td>\n",
       "    </tr>\n",
       "    <tr>\n",
       "      <th>18</th>\n",
       "      <td>0.086957</td>\n",
       "      <td>0.086957</td>\n",
       "      <td>0.826087</td>\n",
       "    </tr>\n",
       "    <tr>\n",
       "      <th>20</th>\n",
       "      <td>0.000000</td>\n",
       "      <td>0.000000</td>\n",
       "      <td>1.000000</td>\n",
       "    </tr>\n",
       "    <tr>\n",
       "      <th>21</th>\n",
       "      <td>0.000000</td>\n",
       "      <td>0.000000</td>\n",
       "      <td>1.000000</td>\n",
       "    </tr>\n",
       "  </tbody>\n",
       "</table>\n",
       "</div>"
      ],
      "text/plain": [
       "Product       KP281     KP481     KP781\n",
       "Education                              \n",
       "12         0.666667  0.333333  0.000000\n",
       "13         0.600000  0.400000  0.000000\n",
       "14         0.545455  0.418182  0.036364\n",
       "15         0.800000  0.200000  0.000000\n",
       "16         0.458824  0.364706  0.176471\n",
       "18         0.086957  0.086957  0.826087\n",
       "20         0.000000  0.000000  1.000000\n",
       "21         0.000000  0.000000  1.000000"
      ]
     },
     "execution_count": 29,
     "metadata": {},
     "output_type": "execute_result"
    }
   ],
   "source": [
    "# Probability of buying different models, based on the education. \n",
    "# Ex. probability of buying KP281, given that the the person has 12 years of education 0.667\n",
    "pd.crosstab(df['Education'],df['Product'],normalize='index')"
   ]
  },
  {
   "cell_type": "markdown",
   "id": "fa1adbc8",
   "metadata": {},
   "source": [
    "Inference : For people who are highly educated(18-21), we observe that they prefer the most expensive model KP781. One reason could be that having more no of education years means a better high paying job, and thus the capacity to afford expensive products. Another reason could be that these people understand the importance of the advanced features and might want to use them. For people who are not so educated, we see that they prefer to buy the models KP281 and KP481."
   ]
  },
  {
   "cell_type": "code",
   "execution_count": null,
   "id": "5291346b",
   "metadata": {},
   "outputs": [],
   "source": []
  },
  {
   "cell_type": "markdown",
   "id": "103e7c59",
   "metadata": {},
   "source": [
    "# Recommendations :\n",
    "\n",
    "\n",
    "#### - It is evident that KP281 models sell the most (44 % of the time), followed by KP481 and then KP781. Therefore the company should keep abundant stock of the KP281 model at any given time.\n",
    "\n",
    "#### - Irrespective of the marital status and gender, we observe that KP281 models are the most preferred and KP781 models are the least preferred. \n",
    "\n",
    "\n",
    "#### - The probabilty of buying the KP781 model, given that the person is a female is almost 9%, which indicates that females rarely buy the most expensive model. Therefore for females, the other 2 models should be the ones that should be first recommended by the company.\n",
    "\n",
    "\n",
    "#### - People having income greater than 70,000 dollars always bought the KP781 model, so the comapny can recommend the most expensive model - KP781 to people having income more than 70000 dollars.\n",
    "\n",
    "#### - The company should recommend the mid-range model KP481 for people in the age group 31-35. For all other age groups, the company can recommend the KP281 model first, followed by the other 2 models.\n",
    "\n",
    "#### - The company should recommend the best model KP781 to people who on average expect to use the treadmill 4-7 times each week. For people who on average expect to use the treadmill 2-4 times each week, the company can recommend the KP281 model followed by the KP481 model.\n",
    "\n",
    "#### - The company should recommend the most expensive mode KP781 to people who consider themselves in excellent shape(5 in fitness). For people who consider themselves (1 - 4) in fitness, the company can recommend the KP281 model followed by the KP481 model.\n",
    "\n",
    "#### -The company can recommend the the most expensive model KP781 to people who expect to run more than 150 miles, otherwise they can recommend the other 2 models - KP281 and KP481.\n",
    "\n",
    "#### - The company should recommend the most expensive model KP781 to people who have more than or equal to 18 years of education, and can recommend the other 2 models - KP281 and KP481 to people who have less than 18 years of education.\n"
   ]
  },
  {
   "cell_type": "code",
   "execution_count": null,
   "id": "c411cb14",
   "metadata": {},
   "outputs": [],
   "source": []
  },
  {
   "cell_type": "code",
   "execution_count": null,
   "id": "17a17290",
   "metadata": {},
   "outputs": [],
   "source": []
  },
  {
   "cell_type": "code",
   "execution_count": null,
   "id": "dbe07d2d",
   "metadata": {},
   "outputs": [],
   "source": []
  },
  {
   "cell_type": "code",
   "execution_count": null,
   "id": "e796e1b4",
   "metadata": {},
   "outputs": [],
   "source": []
  },
  {
   "cell_type": "code",
   "execution_count": null,
   "id": "85bcde2e",
   "metadata": {},
   "outputs": [],
   "source": []
  },
  {
   "cell_type": "code",
   "execution_count": null,
   "id": "e86f7c4e",
   "metadata": {},
   "outputs": [],
   "source": []
  }
 ],
 "metadata": {
  "kernelspec": {
   "display_name": "Python 3 (ipykernel)",
   "language": "python",
   "name": "python3"
  },
  "language_info": {
   "codemirror_mode": {
    "name": "ipython",
    "version": 3
   },
   "file_extension": ".py",
   "mimetype": "text/x-python",
   "name": "python",
   "nbconvert_exporter": "python",
   "pygments_lexer": "ipython3",
   "version": "3.9.7"
  }
 },
 "nbformat": 4,
 "nbformat_minor": 5
}
